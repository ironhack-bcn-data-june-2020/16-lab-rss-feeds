{
 "cells": [
  {
   "cell_type": "markdown",
   "metadata": {},
   "source": [
    "# Working with RSS Feeds Lab\n",
    "\n",
    "Complete the following set of exercises to solidify your knowledge of parsing RSS feeds and extracting information from them."
   ]
  },
  {
   "cell_type": "code",
   "execution_count": 6,
   "metadata": {},
   "outputs": [],
   "source": [
    "import feedparser"
   ]
  },
  {
   "cell_type": "markdown",
   "metadata": {},
   "source": [
    "### 1. Use feedparser to parse the following RSS feed URL."
   ]
  },
  {
   "cell_type": "code",
   "execution_count": 7,
   "metadata": {},
   "outputs": [],
   "source": [
    "url = 'http://feeds.feedburner.com/oreilly/radar/atom'"
   ]
  },
  {
   "cell_type": "code",
   "execution_count": 8,
   "metadata": {},
   "outputs": [],
   "source": [
    "feed = feedparser.parse('http://feeds.feedburner.com/oreilly/radar/atom')"
   ]
  },
  {
   "cell_type": "markdown",
   "metadata": {},
   "source": [
    "### 2. Obtain a list of components (keys) that are available for this feed."
   ]
  },
  {
   "cell_type": "code",
   "execution_count": 23,
   "metadata": {},
   "outputs": [
    {
     "data": {
      "text/plain": [
       "['feed',\n",
       " 'entries',\n",
       " 'bozo',\n",
       " 'headers',\n",
       " 'etag',\n",
       " 'updated',\n",
       " 'updated_parsed',\n",
       " 'href',\n",
       " 'status',\n",
       " 'encoding',\n",
       " 'version',\n",
       " 'namespaces']"
      ]
     },
     "execution_count": 23,
     "metadata": {},
     "output_type": "execute_result"
    }
   ],
   "source": [
    "list(feed.keys())"
   ]
  },
  {
   "cell_type": "markdown",
   "metadata": {},
   "source": [
    "### 3. Obtain a list of components (keys) that are available for the *feed* component of this RSS feed."
   ]
  },
  {
   "cell_type": "code",
   "execution_count": 28,
   "metadata": {},
   "outputs": [
    {
     "data": {
      "text/plain": [
       "{'title': 'Radar',\n",
       " 'title_detail': {'type': 'text/plain',\n",
       "  'language': None,\n",
       "  'base': 'http://feeds.feedburner.com/oreilly/radar/atom',\n",
       "  'value': 'Radar'},\n",
       " 'links': [{'rel': 'alternate',\n",
       "   'type': 'text/html',\n",
       "   'href': 'https://www.oreilly.com/radar'},\n",
       "  {'rel': 'self',\n",
       "   'type': 'application/rss+xml',\n",
       "   'href': 'http://feeds.feedburner.com/oreilly/radar/atom'},\n",
       "  {'rel': 'hub',\n",
       "   'href': 'http://pubsubhubbub.appspot.com/',\n",
       "   'type': 'text/html'}],\n",
       " 'link': 'https://www.oreilly.com/radar',\n",
       " 'subtitle': 'Now, next, and beyond: Tracking need-to-know trends at the intersection of business and technology',\n",
       " 'subtitle_detail': {'type': 'text/html',\n",
       "  'language': None,\n",
       "  'base': 'http://feeds.feedburner.com/oreilly/radar/atom',\n",
       "  'value': 'Now, next, and beyond: Tracking need-to-know trends at the intersection of business and technology'},\n",
       " 'updated': 'Mon, 03 Aug 2020 11:33:02 +0000',\n",
       " 'updated_parsed': time.struct_time(tm_year=2020, tm_mon=8, tm_mday=3, tm_hour=11, tm_min=33, tm_sec=2, tm_wday=0, tm_yday=216, tm_isdst=0),\n",
       " 'language': 'en-US',\n",
       " 'sy_updateperiod': 'hourly',\n",
       " 'sy_updatefrequency': '1',\n",
       " 'generator_detail': {'name': 'https://wordpress.org/?v=5.3.4'},\n",
       " 'generator': 'https://wordpress.org/?v=5.3.4',\n",
       " 'feedburner_info': {'uri': 'oreilly/radar/atom'},\n",
       " 'geo_lat': '38.393314',\n",
       " 'geo_long': '-122.836667',\n",
       " 'feedburner_emailserviceid': 'oreilly/radar/atom',\n",
       " 'feedburner_feedburnerhostname': 'https://feedburner.google.com'}"
      ]
     },
     "execution_count": 28,
     "metadata": {},
     "output_type": "execute_result"
    }
   ],
   "source": [
    "list(feed['feed'].keys())\n",
    "feed[\"feed\"][\"generator\"]\n",
    "feed[\"feed\"]"
   ]
  },
  {
   "cell_type": "markdown",
   "metadata": {},
   "source": [
    "### 4. Extract and print the feed title, subtitle, author, and link."
   ]
  },
  {
   "cell_type": "code",
   "execution_count": 31,
   "metadata": {},
   "outputs": [
    {
     "name": "stdout",
     "output_type": "stream",
     "text": [
      "Radar\n",
      "Now, next, and beyond: Tracking need-to-know trends at the intersection of business and technology\n",
      "https://www.oreilly.com/radar\n"
     ]
    },
    {
     "data": {
      "text/plain": [
       "'https://wordpress.org/?v=5.3.4'"
      ]
     },
     "execution_count": 31,
     "metadata": {},
     "output_type": "execute_result"
    }
   ],
   "source": [
    "print(feed[\"feed\"][\"title\"])\n",
    "print(feed[\"feed\"][\"subtitle\"])\n",
    "#print(feed[\"author\"])\n",
    "print(feed[\"feed\"][\"link\"])\n",
    "feed[\"feed\"][\"generator\"] # I think the information is comming from this website"
   ]
  },
  {
   "cell_type": "markdown",
   "metadata": {},
   "source": [
    "### 5. Count the number of entries that are contained in this RSS feed."
   ]
  },
  {
   "cell_type": "code",
   "execution_count": 40,
   "metadata": {},
   "outputs": [
    {
     "data": {
      "text/plain": [
       "60"
      ]
     },
     "execution_count": 40,
     "metadata": {},
     "output_type": "execute_result"
    }
   ],
   "source": [
    "len(feed[\"entries\"])"
   ]
  },
  {
   "cell_type": "markdown",
   "metadata": {},
   "source": [
    "### 6. Obtain a list of components (keys) available for an entry.\n",
    "\n",
    "*Hint: Remember to index first before requesting the keys*"
   ]
  },
  {
   "cell_type": "code",
   "execution_count": 52,
   "metadata": {},
   "outputs": [
    {
     "data": {
      "text/plain": [
       "['title',\n",
       " 'title_detail',\n",
       " 'links',\n",
       " 'link',\n",
       " 'comments',\n",
       " 'published',\n",
       " 'published_parsed',\n",
       " 'authors',\n",
       " 'author',\n",
       " 'author_detail',\n",
       " 'tags',\n",
       " 'id',\n",
       " 'guidislink',\n",
       " 'summary',\n",
       " 'summary_detail',\n",
       " 'content',\n",
       " 'wfw_commentrss',\n",
       " 'slash_comments',\n",
       " 'feedburner_origlink']"
      ]
     },
     "execution_count": 52,
     "metadata": {},
     "output_type": "execute_result"
    }
   ],
   "source": [
    "list(feed[\"entries\"][0].keys())\n",
    "    "
   ]
  },
  {
   "cell_type": "markdown",
   "metadata": {},
   "source": [
    "### 7. Extract a list of entry titles."
   ]
  },
  {
   "cell_type": "code",
   "execution_count": 128,
   "metadata": {},
   "outputs": [
    {
     "data": {
      "text/plain": [
       "60"
      ]
     },
     "execution_count": 128,
     "metadata": {},
     "output_type": "execute_result"
    }
   ],
   "source": [
    "titles=[]\n",
    "for i in feed[\"entries\"]:\n",
    "    titles.append(i[\"title\"])\n",
    "titles"
   ]
  },
  {
   "cell_type": "markdown",
   "metadata": {},
   "source": [
    "### 8. Calculate the percentage of \"Four short links\" entry titles."
   ]
  },
  {
   "cell_type": "code",
   "execution_count": 131,
   "metadata": {},
   "outputs": [
    {
     "name": "stdout",
     "output_type": "stream",
     "text": [
      "the percentage of \"Four short links\" entry titles is 76.66666666666667\n"
     ]
    }
   ],
   "source": [
    "rep= len([ title for title in titles if 'Four short links' in title])\n",
    "total=len(titles)\n",
    "total_per= rep * 100 / total\n",
    "print(f'the percentage of \"Four short links\" entry titles is {total_per}')\n"
   ]
  },
  {
   "cell_type": "markdown",
   "metadata": {},
   "source": [
    "### 9. Create a Pandas data frame from the feed's entries."
   ]
  },
  {
   "cell_type": "code",
   "execution_count": 133,
   "metadata": {},
   "outputs": [],
   "source": [
    "import pandas as pd"
   ]
  },
  {
   "cell_type": "code",
   "execution_count": 135,
   "metadata": {},
   "outputs": [
    {
     "data": {
      "text/html": [
       "<div>\n",
       "<style scoped>\n",
       "    .dataframe tbody tr th:only-of-type {\n",
       "        vertical-align: middle;\n",
       "    }\n",
       "\n",
       "    .dataframe tbody tr th {\n",
       "        vertical-align: top;\n",
       "    }\n",
       "\n",
       "    .dataframe thead th {\n",
       "        text-align: right;\n",
       "    }\n",
       "</style>\n",
       "<table border=\"1\" class=\"dataframe\">\n",
       "  <thead>\n",
       "    <tr style=\"text-align: right;\">\n",
       "      <th></th>\n",
       "      <th>title</th>\n",
       "      <th>title_detail</th>\n",
       "      <th>links</th>\n",
       "      <th>link</th>\n",
       "      <th>comments</th>\n",
       "      <th>published</th>\n",
       "      <th>published_parsed</th>\n",
       "      <th>authors</th>\n",
       "      <th>author</th>\n",
       "      <th>author_detail</th>\n",
       "      <th>tags</th>\n",
       "      <th>id</th>\n",
       "      <th>guidislink</th>\n",
       "      <th>summary</th>\n",
       "      <th>summary_detail</th>\n",
       "      <th>content</th>\n",
       "      <th>wfw_commentrss</th>\n",
       "      <th>slash_comments</th>\n",
       "      <th>feedburner_origlink</th>\n",
       "    </tr>\n",
       "  </thead>\n",
       "  <tbody>\n",
       "    <tr>\n",
       "      <th>0</th>\n",
       "      <td>Radar trends to watch: August 2020</td>\n",
       "      <td>{'type': 'text/plain', 'language': None, 'base...</td>\n",
       "      <td>[{'rel': 'alternate', 'type': 'text/html', 'hr...</td>\n",
       "      <td>http://feedproxy.google.com/~r/oreilly/radar/a...</td>\n",
       "      <td>https://www.oreilly.com/radar/radar-trends-to-...</td>\n",
       "      <td>Mon, 03 Aug 2020 11:33:02 +0000</td>\n",
       "      <td>(2020, 8, 3, 11, 33, 2, 0, 216, 0)</td>\n",
       "      <td>[{'name': 'Mike Loukides'}]</td>\n",
       "      <td>Mike Loukides</td>\n",
       "      <td>{'name': 'Mike Loukides'}</td>\n",
       "      <td>[{'term': 'Radar Trends', 'scheme': None, 'lab...</td>\n",
       "      <td>https://www.oreilly.com/radar/?p=13193</td>\n",
       "      <td>False</td>\n",
       "      <td>I thought July was going to be a dull month, b...</td>\n",
       "      <td>{'type': 'text/html', 'language': None, 'base'...</td>\n",
       "      <td>[{'type': 'text/html', 'language': None, 'base...</td>\n",
       "      <td>https://www.oreilly.com/radar/radar-trends-to-...</td>\n",
       "      <td>0</td>\n",
       "      <td>https://www.oreilly.com/radar/radar-trends-to-...</td>\n",
       "    </tr>\n",
       "    <tr>\n",
       "      <th>1</th>\n",
       "      <td>Four short links: 31 July 2020</td>\n",
       "      <td>{'type': 'text/plain', 'language': None, 'base...</td>\n",
       "      <td>[{'rel': 'alternate', 'type': 'text/html', 'hr...</td>\n",
       "      <td>http://feedproxy.google.com/~r/oreilly/radar/a...</td>\n",
       "      <td>https://www.oreilly.com/radar/four-short-links...</td>\n",
       "      <td>Fri, 31 Jul 2020 11:33:09 +0000</td>\n",
       "      <td>(2020, 7, 31, 11, 33, 9, 4, 213, 0)</td>\n",
       "      <td>[{'name': 'Nat Torkington'}]</td>\n",
       "      <td>Nat Torkington</td>\n",
       "      <td>{'name': 'Nat Torkington'}</td>\n",
       "      <td>[{'term': 'Four Short Links', 'scheme': None, ...</td>\n",
       "      <td>https://www.oreilly.com/radar/?p=13188</td>\n",
       "      <td>False</td>\n",
       "      <td>Migrating a 40TB SQL Server Database &amp;#8212; A...</td>\n",
       "      <td>{'type': 'text/html', 'language': None, 'base'...</td>\n",
       "      <td>[{'type': 'text/html', 'language': None, 'base...</td>\n",
       "      <td>https://www.oreilly.com/radar/four-short-links...</td>\n",
       "      <td>0</td>\n",
       "      <td>https://www.oreilly.com/radar/four-short-links...</td>\n",
       "    </tr>\n",
       "    <tr>\n",
       "      <th>2</th>\n",
       "      <td>Four short links: 30 July 2020</td>\n",
       "      <td>{'type': 'text/plain', 'language': None, 'base...</td>\n",
       "      <td>[{'rel': 'alternate', 'type': 'text/html', 'hr...</td>\n",
       "      <td>http://feedproxy.google.com/~r/oreilly/radar/a...</td>\n",
       "      <td>https://www.oreilly.com/radar/four-short-links...</td>\n",
       "      <td>Thu, 30 Jul 2020 11:19:09 +0000</td>\n",
       "      <td>(2020, 7, 30, 11, 19, 9, 3, 212, 0)</td>\n",
       "      <td>[{'name': 'Nat Torkington'}]</td>\n",
       "      <td>Nat Torkington</td>\n",
       "      <td>{'name': 'Nat Torkington'}</td>\n",
       "      <td>[{'term': 'Four Short Links', 'scheme': None, ...</td>\n",
       "      <td>https://www.oreilly.com/radar/?p=13185</td>\n",
       "      <td>False</td>\n",
       "      <td>Turning the IDE Inside Out with Datalog &amp;#8212...</td>\n",
       "      <td>{'type': 'text/html', 'language': None, 'base'...</td>\n",
       "      <td>[{'type': 'text/html', 'language': None, 'base...</td>\n",
       "      <td>https://www.oreilly.com/radar/four-short-links...</td>\n",
       "      <td>0</td>\n",
       "      <td>https://www.oreilly.com/radar/four-short-links...</td>\n",
       "    </tr>\n",
       "    <tr>\n",
       "      <th>3</th>\n",
       "      <td>Four short links: 29 July 2020</td>\n",
       "      <td>{'type': 'text/plain', 'language': None, 'base...</td>\n",
       "      <td>[{'rel': 'alternate', 'type': 'text/html', 'hr...</td>\n",
       "      <td>http://feedproxy.google.com/~r/oreilly/radar/a...</td>\n",
       "      <td>https://www.oreilly.com/radar/four-short-links...</td>\n",
       "      <td>Wed, 29 Jul 2020 11:27:14 +0000</td>\n",
       "      <td>(2020, 7, 29, 11, 27, 14, 2, 211, 0)</td>\n",
       "      <td>[{'name': 'Nat Torkington'}]</td>\n",
       "      <td>Nat Torkington</td>\n",
       "      <td>{'name': 'Nat Torkington'}</td>\n",
       "      <td>[{'term': 'Four Short Links', 'scheme': None, ...</td>\n",
       "      <td>https://www.oreilly.com/radar/?p=13182</td>\n",
       "      <td>False</td>\n",
       "      <td>The Golden Rule of Software Quality &amp;#8212; Pr...</td>\n",
       "      <td>{'type': 'text/html', 'language': None, 'base'...</td>\n",
       "      <td>[{'type': 'text/html', 'language': None, 'base...</td>\n",
       "      <td>https://www.oreilly.com/radar/four-short-links...</td>\n",
       "      <td>0</td>\n",
       "      <td>https://www.oreilly.com/radar/four-short-links...</td>\n",
       "    </tr>\n",
       "    <tr>\n",
       "      <th>4</th>\n",
       "      <td>Bringing an AI Product to Market</td>\n",
       "      <td>{'type': 'text/plain', 'language': None, 'base...</td>\n",
       "      <td>[{'rel': 'alternate', 'type': 'text/html', 'hr...</td>\n",
       "      <td>http://feedproxy.google.com/~r/oreilly/radar/a...</td>\n",
       "      <td>https://www.oreilly.com/radar/bringing-an-ai-p...</td>\n",
       "      <td>Tue, 28 Jul 2020 12:33:02 +0000</td>\n",
       "      <td>(2020, 7, 28, 12, 33, 2, 1, 210, 0)</td>\n",
       "      <td>[{'name': 'Justin Norman, Peter Skomoroch and ...</td>\n",
       "      <td>Justin Norman, Peter Skomoroch and Mike Loukides</td>\n",
       "      <td>{'name': 'Justin Norman, Peter Skomoroch and M...</td>\n",
       "      <td>[{'term': 'AI &amp; ML', 'scheme': None, 'label': ...</td>\n",
       "      <td>https://www.oreilly.com/radar/?p=13173</td>\n",
       "      <td>False</td>\n",
       "      <td>The Core Responsibilities of the AI Product Ma...</td>\n",
       "      <td>{'type': 'text/html', 'language': None, 'base'...</td>\n",
       "      <td>[{'type': 'text/html', 'language': None, 'base...</td>\n",
       "      <td>https://www.oreilly.com/radar/bringing-an-ai-p...</td>\n",
       "      <td>0</td>\n",
       "      <td>https://www.oreilly.com/radar/bringing-an-ai-p...</td>\n",
       "    </tr>\n",
       "  </tbody>\n",
       "</table>\n",
       "</div>"
      ],
      "text/plain": [
       "                                title  \\\n",
       "0  Radar trends to watch: August 2020   \n",
       "1      Four short links: 31 July 2020   \n",
       "2      Four short links: 30 July 2020   \n",
       "3      Four short links: 29 July 2020   \n",
       "4    Bringing an AI Product to Market   \n",
       "\n",
       "                                        title_detail  \\\n",
       "0  {'type': 'text/plain', 'language': None, 'base...   \n",
       "1  {'type': 'text/plain', 'language': None, 'base...   \n",
       "2  {'type': 'text/plain', 'language': None, 'base...   \n",
       "3  {'type': 'text/plain', 'language': None, 'base...   \n",
       "4  {'type': 'text/plain', 'language': None, 'base...   \n",
       "\n",
       "                                               links  \\\n",
       "0  [{'rel': 'alternate', 'type': 'text/html', 'hr...   \n",
       "1  [{'rel': 'alternate', 'type': 'text/html', 'hr...   \n",
       "2  [{'rel': 'alternate', 'type': 'text/html', 'hr...   \n",
       "3  [{'rel': 'alternate', 'type': 'text/html', 'hr...   \n",
       "4  [{'rel': 'alternate', 'type': 'text/html', 'hr...   \n",
       "\n",
       "                                                link  \\\n",
       "0  http://feedproxy.google.com/~r/oreilly/radar/a...   \n",
       "1  http://feedproxy.google.com/~r/oreilly/radar/a...   \n",
       "2  http://feedproxy.google.com/~r/oreilly/radar/a...   \n",
       "3  http://feedproxy.google.com/~r/oreilly/radar/a...   \n",
       "4  http://feedproxy.google.com/~r/oreilly/radar/a...   \n",
       "\n",
       "                                            comments  \\\n",
       "0  https://www.oreilly.com/radar/radar-trends-to-...   \n",
       "1  https://www.oreilly.com/radar/four-short-links...   \n",
       "2  https://www.oreilly.com/radar/four-short-links...   \n",
       "3  https://www.oreilly.com/radar/four-short-links...   \n",
       "4  https://www.oreilly.com/radar/bringing-an-ai-p...   \n",
       "\n",
       "                         published                      published_parsed  \\\n",
       "0  Mon, 03 Aug 2020 11:33:02 +0000    (2020, 8, 3, 11, 33, 2, 0, 216, 0)   \n",
       "1  Fri, 31 Jul 2020 11:33:09 +0000   (2020, 7, 31, 11, 33, 9, 4, 213, 0)   \n",
       "2  Thu, 30 Jul 2020 11:19:09 +0000   (2020, 7, 30, 11, 19, 9, 3, 212, 0)   \n",
       "3  Wed, 29 Jul 2020 11:27:14 +0000  (2020, 7, 29, 11, 27, 14, 2, 211, 0)   \n",
       "4  Tue, 28 Jul 2020 12:33:02 +0000   (2020, 7, 28, 12, 33, 2, 1, 210, 0)   \n",
       "\n",
       "                                             authors  \\\n",
       "0                        [{'name': 'Mike Loukides'}]   \n",
       "1                       [{'name': 'Nat Torkington'}]   \n",
       "2                       [{'name': 'Nat Torkington'}]   \n",
       "3                       [{'name': 'Nat Torkington'}]   \n",
       "4  [{'name': 'Justin Norman, Peter Skomoroch and ...   \n",
       "\n",
       "                                             author  \\\n",
       "0                                     Mike Loukides   \n",
       "1                                    Nat Torkington   \n",
       "2                                    Nat Torkington   \n",
       "3                                    Nat Torkington   \n",
       "4  Justin Norman, Peter Skomoroch and Mike Loukides   \n",
       "\n",
       "                                       author_detail  \\\n",
       "0                          {'name': 'Mike Loukides'}   \n",
       "1                         {'name': 'Nat Torkington'}   \n",
       "2                         {'name': 'Nat Torkington'}   \n",
       "3                         {'name': 'Nat Torkington'}   \n",
       "4  {'name': 'Justin Norman, Peter Skomoroch and M...   \n",
       "\n",
       "                                                tags  \\\n",
       "0  [{'term': 'Radar Trends', 'scheme': None, 'lab...   \n",
       "1  [{'term': 'Four Short Links', 'scheme': None, ...   \n",
       "2  [{'term': 'Four Short Links', 'scheme': None, ...   \n",
       "3  [{'term': 'Four Short Links', 'scheme': None, ...   \n",
       "4  [{'term': 'AI & ML', 'scheme': None, 'label': ...   \n",
       "\n",
       "                                       id  guidislink  \\\n",
       "0  https://www.oreilly.com/radar/?p=13193       False   \n",
       "1  https://www.oreilly.com/radar/?p=13188       False   \n",
       "2  https://www.oreilly.com/radar/?p=13185       False   \n",
       "3  https://www.oreilly.com/radar/?p=13182       False   \n",
       "4  https://www.oreilly.com/radar/?p=13173       False   \n",
       "\n",
       "                                             summary  \\\n",
       "0  I thought July was going to be a dull month, b...   \n",
       "1  Migrating a 40TB SQL Server Database &#8212; A...   \n",
       "2  Turning the IDE Inside Out with Datalog &#8212...   \n",
       "3  The Golden Rule of Software Quality &#8212; Pr...   \n",
       "4  The Core Responsibilities of the AI Product Ma...   \n",
       "\n",
       "                                      summary_detail  \\\n",
       "0  {'type': 'text/html', 'language': None, 'base'...   \n",
       "1  {'type': 'text/html', 'language': None, 'base'...   \n",
       "2  {'type': 'text/html', 'language': None, 'base'...   \n",
       "3  {'type': 'text/html', 'language': None, 'base'...   \n",
       "4  {'type': 'text/html', 'language': None, 'base'...   \n",
       "\n",
       "                                             content  \\\n",
       "0  [{'type': 'text/html', 'language': None, 'base...   \n",
       "1  [{'type': 'text/html', 'language': None, 'base...   \n",
       "2  [{'type': 'text/html', 'language': None, 'base...   \n",
       "3  [{'type': 'text/html', 'language': None, 'base...   \n",
       "4  [{'type': 'text/html', 'language': None, 'base...   \n",
       "\n",
       "                                      wfw_commentrss slash_comments  \\\n",
       "0  https://www.oreilly.com/radar/radar-trends-to-...              0   \n",
       "1  https://www.oreilly.com/radar/four-short-links...              0   \n",
       "2  https://www.oreilly.com/radar/four-short-links...              0   \n",
       "3  https://www.oreilly.com/radar/four-short-links...              0   \n",
       "4  https://www.oreilly.com/radar/bringing-an-ai-p...              0   \n",
       "\n",
       "                                 feedburner_origlink  \n",
       "0  https://www.oreilly.com/radar/radar-trends-to-...  \n",
       "1  https://www.oreilly.com/radar/four-short-links...  \n",
       "2  https://www.oreilly.com/radar/four-short-links...  \n",
       "3  https://www.oreilly.com/radar/four-short-links...  \n",
       "4  https://www.oreilly.com/radar/bringing-an-ai-p...  "
      ]
     },
     "execution_count": 135,
     "metadata": {},
     "output_type": "execute_result"
    }
   ],
   "source": [
    "df=pd.DataFrame(feed[\"entries\"])\n",
    "df.head()"
   ]
  },
  {
   "cell_type": "markdown",
   "metadata": {},
   "source": [
    "### 10. Count the number of entries per author and sort them in descending order."
   ]
  },
  {
   "cell_type": "code",
   "execution_count": 139,
   "metadata": {},
   "outputs": [
    {
     "data": {
      "text/plain": [
       "Nat Torkington                                      46\n",
       "Mike Loukides                                        8\n",
       "David G. Robinson                                    1\n",
       "Sarah Gold                                           1\n",
       "Hugo Bowne-Anderson                                  1\n",
       "Adam Jacob, Nat Torkington and Mike Loukides         1\n",
       "Justin Norman, Peter Skomoroch and Mike Loukides     1\n",
       "Mike Loukides and Steve Swoyer                       1\n",
       "Name: author, dtype: int64"
      ]
     },
     "execution_count": 139,
     "metadata": {},
     "output_type": "execute_result"
    }
   ],
   "source": [
    "df[\"author\"].value_counts().sort_values(ascending=False)"
   ]
  },
  {
   "cell_type": "markdown",
   "metadata": {},
   "source": [
    "### 11. Add a new column to the data frame that contains the length (number of characters) of each entry title. Return a data frame that contains the title, author, and title length of each entry in descending order (longest title length at the top)."
   ]
  },
  {
   "cell_type": "code",
   "execution_count": 165,
   "metadata": {},
   "outputs": [
    {
     "data": {
      "text/html": [
       "<div>\n",
       "<style scoped>\n",
       "    .dataframe tbody tr th:only-of-type {\n",
       "        vertical-align: middle;\n",
       "    }\n",
       "\n",
       "    .dataframe tbody tr th {\n",
       "        vertical-align: top;\n",
       "    }\n",
       "\n",
       "    .dataframe thead th {\n",
       "        text-align: right;\n",
       "    }\n",
       "</style>\n",
       "<table border=\"1\" class=\"dataframe\">\n",
       "  <thead>\n",
       "    <tr style=\"text-align: right;\">\n",
       "      <th></th>\n",
       "      <th>title</th>\n",
       "      <th>author</th>\n",
       "      <th>length</th>\n",
       "    </tr>\n",
       "  </thead>\n",
       "  <tbody>\n",
       "    <tr>\n",
       "      <th>21</th>\n",
       "      <td>Automated Coding and the Future of Programming</td>\n",
       "      <td>Mike Loukides</td>\n",
       "      <td>46</td>\n",
       "    </tr>\n",
       "    <tr>\n",
       "      <th>58</th>\n",
       "      <td>Reclaiming the stories that algorithms tell</td>\n",
       "      <td>David G. Robinson</td>\n",
       "      <td>43</td>\n",
       "    </tr>\n",
       "    <tr>\n",
       "      <th>46</th>\n",
       "      <td>Machine Learning and the Production Gap</td>\n",
       "      <td>Mike Loukides</td>\n",
       "      <td>39</td>\n",
       "    </tr>\n",
       "    <tr>\n",
       "      <th>40</th>\n",
       "      <td>Decision-Making in a Time of Crisis</td>\n",
       "      <td>Hugo Bowne-Anderson</td>\n",
       "      <td>35</td>\n",
       "    </tr>\n",
       "    <tr>\n",
       "      <th>0</th>\n",
       "      <td>Radar trends to watch: August 2020</td>\n",
       "      <td>Mike Loukides</td>\n",
       "      <td>34</td>\n",
       "    </tr>\n",
       "  </tbody>\n",
       "</table>\n",
       "</div>"
      ],
      "text/plain": [
       "                                             title               author  \\\n",
       "21  Automated Coding and the Future of Programming        Mike Loukides   \n",
       "58     Reclaiming the stories that algorithms tell    David G. Robinson   \n",
       "46         Machine Learning and the Production Gap        Mike Loukides   \n",
       "40             Decision-Making in a Time of Crisis  Hugo Bowne-Anderson   \n",
       "0               Radar trends to watch: August 2020        Mike Loukides   \n",
       "\n",
       "    length  \n",
       "21      46  \n",
       "58      43  \n",
       "46      39  \n",
       "40      35  \n",
       "0       34  "
      ]
     },
     "execution_count": 165,
     "metadata": {},
     "output_type": "execute_result"
    }
   ],
   "source": [
    "df[\"length\"]=df[\"title\"].str.len()\n",
    "df1=df[['title','author','length']].sort_values(by=\"length\",ascending=False)\n",
    "df1.head()\n"
   ]
  },
  {
   "cell_type": "markdown",
   "metadata": {},
   "source": [
    "### 12. Create a list of entry titles whose summary includes the phrase \"machine learning.\""
   ]
  },
  {
   "cell_type": "code",
   "execution_count": 229,
   "metadata": {},
   "outputs": [
    {
     "data": {
      "text/plain": [
       "['Machine Learning and the Production Gap']"
      ]
     },
     "execution_count": 229,
     "metadata": {},
     "output_type": "execute_result"
    }
   ],
   "source": [
    "\n",
    "lista=[ x for x in df1[\"title\"] if 'Machine Learning' in x]\n",
    "    \n",
    "lista\n"
   ]
  }
 ],
 "metadata": {
  "kernelspec": {
   "display_name": "Python 3",
   "language": "python",
   "name": "python3"
  },
  "language_info": {
   "codemirror_mode": {
    "name": "ipython",
    "version": 3
   },
   "file_extension": ".py",
   "mimetype": "text/x-python",
   "name": "python",
   "nbconvert_exporter": "python",
   "pygments_lexer": "ipython3",
   "version": "3.7.6"
  }
 },
 "nbformat": 4,
 "nbformat_minor": 2
}
